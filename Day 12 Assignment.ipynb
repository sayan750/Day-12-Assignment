{
 "cells": [
  {
   "cell_type": "markdown",
   "id": "8630fceb",
   "metadata": {},
   "source": [
    "### Q1.\n",
    "\n",
    "**Exception handling is an important concept in programming, as it allows you to handle errors and unexpected events that may occur during the execution of your code.**\n",
    "\n",
    "**Exceptions and syntax errors are both types of errors that can occur in Python code, but they have different causes and behaviors.Syntax errors are errors that occur when the Python interpreter is unable to parse your code because it contains syntax that is not valid.Exceptions, on the other hand, are errors that occur during the execution of your code. They can occur for a variety of reasons, such as attempting to access an undefined variable, dividing by zero, or passing an invalid argument to a function. Exceptions can be raised by either Python built-in functions or custom functions.**"
   ]
  },
  {
   "cell_type": "markdown",
   "id": "d5c53867",
   "metadata": {},
   "source": [
    "### Q2.\n",
    "\n",
    "**When an exception is not handled, it results in an error message and the termination of the program's execution. This is because an unhandled exception \"propagates\" up through the call stack until it reaches the top-level of the program, where it causes the program to terminate with a traceback message that includes information about the exception and where it was raised.**"
   ]
  },
  {
   "cell_type": "code",
   "execution_count": 2,
   "id": "ac802419",
   "metadata": {},
   "outputs": [
    {
     "ename": "ZeroDivisionError",
     "evalue": "division by zero",
     "output_type": "error",
     "traceback": [
      "\u001b[1;31m---------------------------------------------------------------------------\u001b[0m",
      "\u001b[1;31mZeroDivisionError\u001b[0m                         Traceback (most recent call last)",
      "Input \u001b[1;32mIn [2]\u001b[0m, in \u001b[0;36m<cell line: 7>\u001b[1;34m()\u001b[0m\n\u001b[0;32m      5\u001b[0m     divide_by_zero()\n\u001b[0;32m      7\u001b[0m \u001b[38;5;28;01mif\u001b[39;00m \u001b[38;5;18m__name__\u001b[39m \u001b[38;5;241m==\u001b[39m \u001b[38;5;124m\"\u001b[39m\u001b[38;5;124m__main__\u001b[39m\u001b[38;5;124m\"\u001b[39m:\n\u001b[1;32m----> 8\u001b[0m     \u001b[43mmain\u001b[49m\u001b[43m(\u001b[49m\u001b[43m)\u001b[49m\n",
      "Input \u001b[1;32mIn [2]\u001b[0m, in \u001b[0;36mmain\u001b[1;34m()\u001b[0m\n\u001b[0;32m      4\u001b[0m \u001b[38;5;28;01mdef\u001b[39;00m \u001b[38;5;21mmain\u001b[39m():\n\u001b[1;32m----> 5\u001b[0m     \u001b[43mdivide_by_zero\u001b[49m\u001b[43m(\u001b[49m\u001b[43m)\u001b[49m\n",
      "Input \u001b[1;32mIn [2]\u001b[0m, in \u001b[0;36mdivide_by_zero\u001b[1;34m()\u001b[0m\n\u001b[0;32m      1\u001b[0m \u001b[38;5;28;01mdef\u001b[39;00m \u001b[38;5;21mdivide_by_zero\u001b[39m():\n\u001b[1;32m----> 2\u001b[0m     \u001b[38;5;28;01mreturn\u001b[39;00m \u001b[38;5;241;43m1\u001b[39;49m\u001b[38;5;241;43m/\u001b[39;49m\u001b[38;5;241;43m0\u001b[39;49m\n",
      "\u001b[1;31mZeroDivisionError\u001b[0m: division by zero"
     ]
    }
   ],
   "source": [
    "def divide_by_zero():\n",
    "    return 1/0\n",
    "\n",
    "def main():\n",
    "    divide_by_zero()\n",
    "\n",
    "if __name__ == \"__main__\":\n",
    "    main()"
   ]
  },
  {
   "cell_type": "markdown",
   "id": "e8a3b531",
   "metadata": {},
   "source": [
    "### Q3.\n",
    "\n",
    "**In Python, we use the try and except statements to catch and handle exceptions. The try block contains the code that may raise an exception, and the except block catches and handles the exception if it occurs.**"
   ]
  },
  {
   "cell_type": "code",
   "execution_count": 4,
   "id": "35664849",
   "metadata": {},
   "outputs": [
    {
     "name": "stdout",
     "output_type": "stream",
     "text": [
      "Cannot divide by zero\n"
     ]
    }
   ],
   "source": [
    "try:\n",
    "    result = 10 / 0\n",
    "except ZeroDivisionError:\n",
    "    print(\"Cannot divide by zero\")"
   ]
  },
  {
   "cell_type": "markdown",
   "id": "f6f9340e",
   "metadata": {},
   "source": [
    "### Q4.\n",
    "\n",
    "**try and else: The try block in Python is used to enclose a block of code that might raise an exception. If an exception is raised within the try block, it can be caught and handled in the except block. The else block is executed only if no exception is raised within the try block. Here's an example:**"
   ]
  },
  {
   "cell_type": "code",
   "execution_count": 5,
   "id": "0ddea544",
   "metadata": {},
   "outputs": [
    {
     "name": "stdout",
     "output_type": "stream",
     "text": [
      "Enter a number: 7\n",
      "The number entered is: 7\n"
     ]
    }
   ],
   "source": [
    "try:\n",
    "    num = int(input(\"Enter a number: \"))\n",
    "except ValueError:\n",
    "    print(\"Invalid input\")\n",
    "else:\n",
    "    print(\"The number entered is:\", num)"
   ]
  },
  {
   "cell_type": "markdown",
   "id": "74b815c8",
   "metadata": {},
   "source": [
    "**finally: The finally block is executed regardless of whether an exception is raised or not. This block is useful for releasing resources, such as file handles or database connections, that were acquired within the try block.**"
   ]
  },
  {
   "cell_type": "code",
   "execution_count": 8,
   "id": "5cd0e05f",
   "metadata": {},
   "outputs": [],
   "source": [
    "try:\n",
    "    f = open(\"file.txt\", \"a\")\n",
    "    # some code that may raise an exception\n",
    "finally:\n",
    "    f.close()"
   ]
  },
  {
   "cell_type": "markdown",
   "id": "c060bf02",
   "metadata": {},
   "source": [
    "**raise: The raise statement is used to raise an exception manually. You can use it to raise a built-in exception, such as ValueError or TypeError, or a custom exception that you have defined.**"
   ]
  },
  {
   "cell_type": "code",
   "execution_count": 9,
   "id": "ae2b0309",
   "metadata": {},
   "outputs": [
    {
     "name": "stdout",
     "output_type": "stream",
     "text": [
      "Cannot divide by zero\n"
     ]
    }
   ],
   "source": [
    "def divide(a, b):\n",
    "    if b == 0:\n",
    "        raise ValueError(\"Cannot divide by zero\")\n",
    "    return a / b\n",
    "\n",
    "try:\n",
    "    result = divide(10, 0)\n",
    "except ValueError as e:\n",
    "    print(e)\n",
    "else:\n",
    "    print(result)"
   ]
  },
  {
   "cell_type": "markdown",
   "id": "34d51850",
   "metadata": {},
   "source": [
    "### Q5.\n",
    "\n",
    "**In Python, custom exceptions are user-defined exception classes that can be raised by the programmer when a specific error or exceptional situation occurs. These exceptions are created by subclassing the built-in Exception class, or any of its subclasses such as ValueError, TypeError, etc.**\n",
    "\n",
    "**We need custom exceptions to provide more descriptive and specific error messages when our program encounters an exceptional situation. When we raise a custom exception, we can include additional information about the error or the context in which it occurred, which can help us and other developers debug the code more easily.**"
   ]
  },
  {
   "cell_type": "code",
   "execution_count": 10,
   "id": "8773a15d",
   "metadata": {},
   "outputs": [
    {
     "name": "stdout",
     "output_type": "stream",
     "text": [
      "Enter a number between 1 and 10: 6\n",
      "The number you entered is 6.\n"
     ]
    }
   ],
   "source": [
    "class InvalidInputError(Exception):\n",
    "    def __init__(self, message):\n",
    "        self.message = message\n",
    "        \n",
    "def get_user_input():\n",
    "    user_input = input(\"Enter a number between 1 and 10: \")\n",
    "    if not user_input.isdigit() or int(user_input) not in range(1, 11):\n",
    "        raise InvalidInputError(\"Invalid input. Please enter a number between 1 and 10.\")\n",
    "    return int(user_input)\n",
    "\n",
    "try:\n",
    "    number = get_user_input()\n",
    "    print(f\"The number you entered is {number}.\")\n",
    "except InvalidInputError as e:\n",
    "    print(e.message)"
   ]
  },
  {
   "cell_type": "markdown",
   "id": "0c86cf80",
   "metadata": {},
   "source": [
    "### Q6."
   ]
  },
  {
   "cell_type": "code",
   "execution_count": 11,
   "id": "690b9cee",
   "metadata": {},
   "outputs": [
    {
     "name": "stdout",
     "output_type": "stream",
     "text": [
      "Caught the custom exception: Something went wrong\n"
     ]
    }
   ],
   "source": [
    "class MyCustomException(Exception):\n",
    "    def __init__(self, message):\n",
    "        self.message = message\n",
    "\n",
    "try:\n",
    "    \n",
    "    raise MyCustomException(\"Something went wrong\")\n",
    "except MyCustomException as e:\n",
    "    print(\"Caught the custom exception:\", e.message)"
   ]
  },
  {
   "cell_type": "code",
   "execution_count": null,
   "id": "e6a78480",
   "metadata": {},
   "outputs": [],
   "source": []
  },
  {
   "cell_type": "code",
   "execution_count": null,
   "id": "32f5fe21",
   "metadata": {},
   "outputs": [],
   "source": []
  },
  {
   "cell_type": "code",
   "execution_count": null,
   "id": "98d3946a",
   "metadata": {},
   "outputs": [],
   "source": []
  },
  {
   "cell_type": "code",
   "execution_count": null,
   "id": "493c83bd",
   "metadata": {},
   "outputs": [],
   "source": []
  }
 ],
 "metadata": {
  "kernelspec": {
   "display_name": "Python 3 (ipykernel)",
   "language": "python",
   "name": "python3"
  },
  "language_info": {
   "codemirror_mode": {
    "name": "ipython",
    "version": 3
   },
   "file_extension": ".py",
   "mimetype": "text/x-python",
   "name": "python",
   "nbconvert_exporter": "python",
   "pygments_lexer": "ipython3",
   "version": "3.9.12"
  }
 },
 "nbformat": 4,
 "nbformat_minor": 5
}
